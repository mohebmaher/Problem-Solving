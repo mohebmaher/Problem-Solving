{
 "cells": [
  {
   "cell_type": "markdown",
   "id": "4ca98c4e-3329-40db-8207-3a3ca969ab07",
   "metadata": {},
   "source": [
    "# Longest Substring without Repeating Characters"
   ]
  },
  {
   "cell_type": "markdown",
   "id": "aa1b254f-3c48-4607-932d-2cd0b6d464bd",
   "metadata": {},
   "source": [
    "## Problem outline"
   ]
  },
  {
   "cell_type": "markdown",
   "id": "8ea6b4a5-2a87-4636-9340-572c20163ee5",
   "metadata": {},
   "source": [
    "Given a string `s`, find the length of the longest substring without repeating characters."
   ]
  },
  {
   "cell_type": "markdown",
   "id": "2aad4b2d-216f-4d61-9e63-205bdc434678",
   "metadata": {},
   "source": [
    "https://leetcode.com/problems/longest-substring-without-repeating-characters/"
   ]
  },
  {
   "cell_type": "markdown",
   "id": "7be3a62c-2e13-40a6-a203-bcb11d7f506a",
   "metadata": {},
   "source": [
    "> - **Example 1**:\n",
    ">> - Input: `s = \"abcabcbb\"`\n",
    ">> - Output: `3`\n",
    ">> - Explanation: The answer is `\"abc\"`, with the length of `3`."
   ]
  },
  {
   "cell_type": "markdown",
   "id": "617376c6-ff03-4ff6-bebd-f1bdd9f3e706",
   "metadata": {},
   "source": [
    "> - **Example 2**:\n",
    ">> - Input: `s = \"bbbb\"`\n",
    ">> - Output: ``1``"
   ]
  },
  {
   "cell_type": "markdown",
   "id": "5599deb2-87ed-439d-b230-b2bd6d1b958b",
   "metadata": {},
   "source": [
    "> - **Example 3**:\n",
    ">> - Input: `s = \"pwwkew\"`\n",
    ">> - Output: `3`\n",
    ">> - Explanation: The answer is `\"wke\"`, with the length of `3`.\n",
    ">> - Notice that the answer must be a substring, \"pwke\" is a subsequence and not a substring."
   ]
  },
  {
   "cell_type": "markdown",
   "id": "54a3192d-4171-483f-914c-d1f0c023542e",
   "metadata": {},
   "source": [
    "> - **Constraints**:\n",
    ">> - 0 <= s.length <= 5 * 104\n",
    ">> - s consists of English letters, digits, symbols and spaces."
   ]
  },
  {
   "cell_type": "markdown",
   "id": "83bcbf9d-219b-4be0-a618-1786801aa7cf",
   "metadata": {
    "tags": []
   },
   "source": [
    "## Solution:"
   ]
  },
  {
   "cell_type": "markdown",
   "id": "fad1ae98-de86-4a08-8d86-4f50a056d846",
   "metadata": {
    "tags": []
   },
   "source": [
    "### Implementation(s):"
   ]
  },
  {
   "cell_type": "code",
   "execution_count": 1,
   "id": "6614858e-d123-404f-9104-d1a8d5204733",
   "metadata": {},
   "outputs": [],
   "source": [
    "def length_of_longest_substring(s):\n",
    "    \n",
    "    # Define a special case where s == \"\"\n",
    "    if s == '':\n",
    "        return len(s)\n",
    "    \n",
    "    # Initialize an empty dict to keep track of\n",
    "    # last seen characters and their indices:\n",
    "    last_seen = {}\n",
    "    \n",
    "    # Initialize a pointer = 0\n",
    "    p = 0\n",
    "    \n",
    "    # Initialize max_len == 0\n",
    "    max_len = 0\n",
    "    \n",
    "    # Iterate over idx, ch in s\n",
    "    for idx, ch in enumerate(s):\n",
    "        # Check wether ch is seen before\n",
    "        if ch not in last_seen:\n",
    "            last_seen[ch] = idx\n",
    "        else:\n",
    "            p = last_seen[ch] + 1\n",
    "            last_seen[ch] = idx\n",
    "        # Keep track of max_len\n",
    "        max_len = max(max_len, (idx - p) + 1)\n",
    "        \n",
    "    # Return max_len\n",
    "    return max_len"
   ]
  },
  {
   "cell_type": "markdown",
   "id": "c8cd8125-198a-4470-9bf5-a17e72f80eb3",
   "metadata": {},
   "source": [
    "### Example 1 - Output: 3"
   ]
  },
  {
   "cell_type": "code",
   "execution_count": 2,
   "id": "2a5856c9-6584-4ff4-ade0-5648e4842dde",
   "metadata": {},
   "outputs": [],
   "source": [
    "s = 'abcabcbb'"
   ]
  },
  {
   "cell_type": "code",
   "execution_count": 3,
   "id": "254525e5-1c13-4f51-982a-2ad140fa45c7",
   "metadata": {},
   "outputs": [
    {
     "name": "stdout",
     "output_type": "stream",
     "text": [
      "CPU times: total: 0 ns\n",
      "Wall time: 0 ns\n"
     ]
    },
    {
     "data": {
      "text/plain": [
       "3"
      ]
     },
     "execution_count": 3,
     "metadata": {},
     "output_type": "execute_result"
    }
   ],
   "source": [
    "%%time\n",
    "length_of_longest_substring(s)"
   ]
  },
  {
   "cell_type": "markdown",
   "id": "68137a8a-db59-4c1d-895a-4ded7a2a1426",
   "metadata": {
    "tags": []
   },
   "source": [
    "### Example 2 - Output: 1"
   ]
  },
  {
   "cell_type": "code",
   "execution_count": 4,
   "id": "d3b6734a-683d-4c35-aaac-7e2b2110167b",
   "metadata": {},
   "outputs": [],
   "source": [
    "s = 'bbbb'"
   ]
  },
  {
   "cell_type": "code",
   "execution_count": 5,
   "id": "1ea9e9b3-ad35-485e-b4e2-75dcce4d0ab6",
   "metadata": {},
   "outputs": [
    {
     "name": "stdout",
     "output_type": "stream",
     "text": [
      "CPU times: total: 0 ns\n",
      "Wall time: 0 ns\n"
     ]
    },
    {
     "data": {
      "text/plain": [
       "1"
      ]
     },
     "execution_count": 5,
     "metadata": {},
     "output_type": "execute_result"
    }
   ],
   "source": [
    "%%time\n",
    "length_of_longest_substring(s)"
   ]
  },
  {
   "cell_type": "markdown",
   "id": "7c04634f-b9a3-405c-8356-4f09ce66d84d",
   "metadata": {},
   "source": [
    "### Example 3 - Output: 3"
   ]
  },
  {
   "cell_type": "code",
   "execution_count": 6,
   "id": "5f129308-887b-4551-af54-89549bac433a",
   "metadata": {},
   "outputs": [],
   "source": [
    "s = 'pwwkew'"
   ]
  },
  {
   "cell_type": "code",
   "execution_count": 7,
   "id": "e04dd905-0761-46d1-8539-8d55f0a37402",
   "metadata": {},
   "outputs": [
    {
     "name": "stdout",
     "output_type": "stream",
     "text": [
      "CPU times: total: 0 ns\n",
      "Wall time: 0 ns\n"
     ]
    },
    {
     "data": {
      "text/plain": [
       "3"
      ]
     },
     "execution_count": 7,
     "metadata": {},
     "output_type": "execute_result"
    }
   ],
   "source": [
    "%%time\n",
    "length_of_longest_substring(s)"
   ]
  },
  {
   "cell_type": "code",
   "execution_count": null,
   "id": "98060a33-e610-4223-ab77-e74f37fa98b5",
   "metadata": {},
   "outputs": [],
   "source": []
  }
 ],
 "metadata": {
  "kernelspec": {
   "display_name": "Python 3 (ipykernel)",
   "language": "python",
   "name": "python3"
  },
  "language_info": {
   "codemirror_mode": {
    "name": "ipython",
    "version": 3
   },
   "file_extension": ".py",
   "mimetype": "text/x-python",
   "name": "python",
   "nbconvert_exporter": "python",
   "pygments_lexer": "ipython3",
   "version": "3.10.10"
  }
 },
 "nbformat": 4,
 "nbformat_minor": 5
}
