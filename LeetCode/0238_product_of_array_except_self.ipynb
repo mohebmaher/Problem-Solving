{
 "cells": [
  {
   "cell_type": "markdown",
   "id": "a8dcce19-b976-4f6d-88b1-4526b3c648c4",
   "metadata": {},
   "source": [
    "# [238. Product of Array Except Self](https://leetcode.com/problems/product-of-array-except-self/)\n",
    "### (Medium)"
   ]
  },
  {
   "cell_type": "markdown",
   "id": "2369bbb4-fb7e-4189-94e5-03caabe13281",
   "metadata": {},
   "source": [
    "## Problem Outline"
   ]
  },
  {
   "cell_type": "markdown",
   "id": "fc5e8c71-d291-456e-99f4-3e729ed26db3",
   "metadata": {},
   "source": [
    "Given an integer array `nums`, return an array `answer` such that `answer[i]` is equal to the product of all the elements of `nums` except `nums[i]`.\n",
    "\n",
    "The product of any prefix or suffix of `nums` is guaranteed to fit in a 32-bit integer.\n",
    "\n",
    "You must write an algorithm that runs in `O(n)` time and without using the division operation."
   ]
  },
  {
   "cell_type": "markdown",
   "id": "ee9c35cc-083a-4eae-bed9-b233662bafe1",
   "metadata": {},
   "source": [
    "> - Example 1:\n",
    ">> - Input: `nums = [1,2,3,4]`\n",
    ">> - Output: `[24,12,8,6]`\n",
    "\n",
    "> - Example 2:\n",
    ">> - Input: `nums = [-1,1,0,-3,3]`\n",
    ">> - Output: `[0,0,9,0,0]`"
   ]
  },
  {
   "cell_type": "markdown",
   "id": "897d0b65-73c3-435c-80d5-9e2a5d831225",
   "metadata": {},
   "source": [
    "## Solution"
   ]
  },
  {
   "cell_type": "code",
   "execution_count": 1,
   "id": "f78d8ad5-41d5-4fc3-9324-3da527da5e8f",
   "metadata": {
    "tags": []
   },
   "outputs": [],
   "source": [
    "def productExceptSelf(nums):\n",
    "    \n",
    "    \"\"\"Returns the the product of all the elements in an array except a given index.\"\"\"\n",
    "    \n",
    "    # Keep track of cumulative product on the left of a given index:\n",
    "    cum_prod_to_left = []\n",
    "    cum_prod = 1\n",
    "    for n in nums:\n",
    "        cum_prod *= n\n",
    "        cum_prod_to_left.append(cum_prod)\n",
    "\n",
    "    # Keep track of cumulative product on the right of a given index:\n",
    "    cum_prod_to_right = []\n",
    "    cum_prod = 1\n",
    "    for n in nums[::-1]:\n",
    "        cum_prod *= n\n",
    "        cum_prod_to_right.append(cum_prod)\n",
    "    cum_prod_to_right.reverse()\n",
    "\n",
    "    # Compute the solution:\n",
    "    solution = []\n",
    "    arr_len = len(nums)\n",
    "    for i in range(arr_len):\n",
    "        left = cum_prod_to_left[i - 1] if i > 0 else 1\n",
    "        right = cum_prod_to_right[i + 1] if i < (arr_len - 1) else 1\n",
    "        solution.append(left * right)\n",
    "\n",
    "    return solution"
   ]
  },
  {
   "cell_type": "markdown",
   "id": "e39b0eec-4358-4d43-95fb-3d3511c7345f",
   "metadata": {},
   "source": [
    "## Examples"
   ]
  },
  {
   "cell_type": "markdown",
   "id": "ddb58bb5-0381-42ad-a6fd-3a699c0f92cf",
   "metadata": {},
   "source": [
    "- **Example 1:**"
   ]
  },
  {
   "cell_type": "code",
   "execution_count": 2,
   "id": "2acc7efa-134d-4d3c-bb20-3f6223e32a42",
   "metadata": {
    "tags": []
   },
   "outputs": [],
   "source": [
    "nums = [1, 2, 3, 4]"
   ]
  },
  {
   "cell_type": "code",
   "execution_count": 3,
   "id": "3a2b359d-e1af-4bac-b766-d990bb06e99c",
   "metadata": {
    "tags": []
   },
   "outputs": [
    {
     "data": {
      "text/plain": [
       "[24, 12, 8, 6]"
      ]
     },
     "execution_count": 3,
     "metadata": {},
     "output_type": "execute_result"
    }
   ],
   "source": [
    "productExceptSelf(nums)"
   ]
  },
  {
   "cell_type": "markdown",
   "id": "dd4ad210-97d4-448c-8d28-009467993a9b",
   "metadata": {},
   "source": [
    "- **Example 2:**"
   ]
  },
  {
   "cell_type": "code",
   "execution_count": 4,
   "id": "96b89116-2f24-4f9a-9fb6-df40f8ace39c",
   "metadata": {
    "tags": []
   },
   "outputs": [],
   "source": [
    "nums = [-1, 1, 0, -3, 3]"
   ]
  },
  {
   "cell_type": "code",
   "execution_count": 5,
   "id": "fe3178db-7a07-4c34-80cb-06c6c535d1ab",
   "metadata": {
    "tags": []
   },
   "outputs": [
    {
     "data": {
      "text/plain": [
       "[0, 0, 9, 0, 0]"
      ]
     },
     "execution_count": 5,
     "metadata": {},
     "output_type": "execute_result"
    }
   ],
   "source": [
    "productExceptSelf(nums)"
   ]
  },
  {
   "cell_type": "code",
   "execution_count": null,
   "id": "5cb60acb-a2d6-4ff8-9bd3-6231b0fb9d22",
   "metadata": {},
   "outputs": [],
   "source": []
  }
 ],
 "metadata": {
  "kernelspec": {
   "display_name": "Main-Dev-Env",
   "language": "python",
   "name": "main-dev-env"
  },
  "language_info": {
   "codemirror_mode": {
    "name": "ipython",
    "version": 3
   },
   "file_extension": ".py",
   "mimetype": "text/x-python",
   "name": "python",
   "nbconvert_exporter": "python",
   "pygments_lexer": "ipython3",
   "version": "3.10.10"
  }
 },
 "nbformat": 4,
 "nbformat_minor": 5
}
