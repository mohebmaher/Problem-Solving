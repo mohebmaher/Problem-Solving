{
 "cells": [
  {
   "cell_type": "markdown",
   "id": "4ca98c4e-3329-40db-8207-3a3ca969ab07",
   "metadata": {},
   "source": [
    "# Squares of a Sorted Array"
   ]
  },
  {
   "cell_type": "markdown",
   "id": "aa1b254f-3c48-4607-932d-2cd0b6d464bd",
   "metadata": {},
   "source": [
    "## Problem outline"
   ]
  },
  {
   "cell_type": "markdown",
   "id": "8ea6b4a5-2a87-4636-9340-572c20163ee5",
   "metadata": {},
   "source": [
    "Given an integer array `nums` sorted in non-decreasing order, return an array of the squares of each number sorted in non-decreasing order."
   ]
  },
  {
   "cell_type": "markdown",
   "id": "2aad4b2d-216f-4d61-9e63-205bdc434678",
   "metadata": {},
   "source": [
    "https://leetcode.com/problems/squares-of-a-sorted-array/"
   ]
  },
  {
   "cell_type": "markdown",
   "id": "7be3a62c-2e13-40a6-a203-bcb11d7f506a",
   "metadata": {},
   "source": [
    "> - **Example 1**:\n",
    ">> - Input: nums = ``[-4, -1, 0, 3, 10]``\n",
    ">> - Output: ``[0, 1, 9, 16 ,100]``\n",
    ">> - Explanation: After squaring, the array becomes ``[16, 1, 0, 9, 100]``. After sorting, it becomes ``[0, 1 ,9, 16, 100]``."
   ]
  },
  {
   "cell_type": "markdown",
   "id": "617376c6-ff03-4ff6-bebd-f1bdd9f3e706",
   "metadata": {},
   "source": [
    "> - **Example 2**:\n",
    ">> - Input: `nums = [-7, -3, 2, 3, 11]`\n",
    ">> - Output: ``[4, 9, 9, 49, 121]``"
   ]
  },
  {
   "cell_type": "markdown",
   "id": "54a3192d-4171-483f-914c-d1f0c023542e",
   "metadata": {},
   "source": [
    "> - **Constraints**:\n",
    ">> - 1 <= nums.length <= 104\n",
    ">> - -104 <= nums[i] <= 104\n",
    ">> - `nums` is sorted in non-decreasing order."
   ]
  },
  {
   "cell_type": "markdown",
   "id": "bf8843e7-a073-4a04-9820-00bf387a6158",
   "metadata": {},
   "source": [
    "> - **Follow-up**:\n",
    ">> - Squaring each element and sorting the new array is very trivial, could you find an O(n) solution using a different approach?"
   ]
  },
  {
   "cell_type": "markdown",
   "id": "83bcbf9d-219b-4be0-a618-1786801aa7cf",
   "metadata": {
    "tags": []
   },
   "source": [
    "## Solution:"
   ]
  },
  {
   "cell_type": "markdown",
   "id": "fad1ae98-de86-4a08-8d86-4f50a056d846",
   "metadata": {},
   "source": [
    "### Implementation(s):"
   ]
  },
  {
   "cell_type": "code",
   "execution_count": 1,
   "id": "a9352889-60d3-4038-9fab-dc0aa676e367",
   "metadata": {},
   "outputs": [],
   "source": [
    "# Runs in O(n)\n",
    "def sorted_squares(nums):\n",
    "    \n",
    "    # Create a new array:\n",
    "    sorted_squares = []\n",
    "    \n",
    "    # Create left & right pointers\n",
    "    l_pointer = 0\n",
    "    r_pointer = -1\n",
    "    \n",
    "    # Traverse nums\n",
    "    for i in range(len(nums)):\n",
    "        # Declare l_num & r_num for the sake of clarity\n",
    "        l_num, r_num = abs(nums[l_pointer]), abs(nums[r_pointer])\n",
    "        # Check for the grater num\n",
    "        if l_num >= r_num:\n",
    "            sorted_squares.append(l_num**2)\n",
    "            l_pointer += 1\n",
    "        else:\n",
    "            sorted_squares.append(r_num**2)\n",
    "            r_pointer -= 1\n",
    "            \n",
    "    # Return inverted sorted_squares\n",
    "    return sorted_squares[::-1]"
   ]
  },
  {
   "cell_type": "markdown",
   "id": "c8cd8125-198a-4470-9bf5-a17e72f80eb3",
   "metadata": {},
   "source": [
    "### Example 1 - Output: [0, 1, 9, 16 ,100]"
   ]
  },
  {
   "cell_type": "code",
   "execution_count": 2,
   "id": "f13a9ac4-82c2-4f9a-9e1a-a9ca97337074",
   "metadata": {},
   "outputs": [],
   "source": [
    "nums = [-4, -1, 0, 3, 10]"
   ]
  },
  {
   "cell_type": "code",
   "execution_count": 3,
   "id": "14ff0e42-ba32-4675-ac12-d87f4a966047",
   "metadata": {},
   "outputs": [
    {
     "name": "stdout",
     "output_type": "stream",
     "text": [
      "[0, 1, 9, 16, 100]\n",
      "CPU times: total: 0 ns\n",
      "Wall time: 1 ms\n"
     ]
    }
   ],
   "source": [
    "%%time\n",
    "sorted_nums = sorted_squares(nums)\n",
    "print(sorted_nums)"
   ]
  },
  {
   "cell_type": "markdown",
   "id": "68137a8a-db59-4c1d-895a-4ded7a2a1426",
   "metadata": {},
   "source": [
    "### Example 2 - Output: [4, 9, 9, 49, 121]"
   ]
  },
  {
   "cell_type": "code",
   "execution_count": 4,
   "id": "c20abad9-fa59-4b3c-ad9d-f781c3918a88",
   "metadata": {},
   "outputs": [],
   "source": [
    "nums = [-7, -3, 2, 3, 11]"
   ]
  },
  {
   "cell_type": "code",
   "execution_count": 5,
   "id": "2e6ae496-388b-42bb-bf9a-1853cab45736",
   "metadata": {},
   "outputs": [
    {
     "name": "stdout",
     "output_type": "stream",
     "text": [
      "[4, 9, 9, 49, 121]\n",
      "CPU times: total: 0 ns\n",
      "Wall time: 4 ms\n"
     ]
    }
   ],
   "source": [
    "%%time\n",
    "sorted_nums = sorted_squares(nums)\n",
    "print(sorted_nums)"
   ]
  },
  {
   "cell_type": "code",
   "execution_count": null,
   "id": "d3b6734a-683d-4c35-aaac-7e2b2110167b",
   "metadata": {},
   "outputs": [],
   "source": []
  }
 ],
 "metadata": {
  "kernelspec": {
   "display_name": "Python 3 (ipykernel)",
   "language": "python",
   "name": "python3"
  },
  "language_info": {
   "codemirror_mode": {
    "name": "ipython",
    "version": 3
   },
   "file_extension": ".py",
   "mimetype": "text/x-python",
   "name": "python",
   "nbconvert_exporter": "python",
   "pygments_lexer": "ipython3",
   "version": "3.10.10"
  }
 },
 "nbformat": 4,
 "nbformat_minor": 5
}
