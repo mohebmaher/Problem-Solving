{
 "cells": [
  {
   "cell_type": "markdown",
   "id": "4ca98c4e-3329-40db-8207-3a3ca969ab07",
   "metadata": {},
   "source": [
    "# [1. Two Sum](https://leetcode.com/problems/two-sum/)\n",
    "### (Easy)"
   ]
  },
  {
   "cell_type": "markdown",
   "id": "aa1b254f-3c48-4607-932d-2cd0b6d464bd",
   "metadata": {},
   "source": [
    "## Problem Outline"
   ]
  },
  {
   "cell_type": "markdown",
   "id": "8ea6b4a5-2a87-4636-9340-572c20163ee5",
   "metadata": {},
   "source": [
    "Given an array of integers `nums` and an integer `target`, return indices of the two numbers such that they add up to target.\n",
    "\n",
    "You may assume that each input would have exactly one solution, and you may not use the same element twice.\n",
    "\n",
    "You can return the answer in any order."
   ]
  },
  {
   "cell_type": "markdown",
   "id": "7be3a62c-2e13-40a6-a203-bcb11d7f506a",
   "metadata": {},
   "source": [
    "> - **Example 1**:\n",
    ">> - Input: `nums = [2, 7, 11, 15], target = 9`\n",
    ">> - Output: ``[0, 1]``\n",
    ">> - Explanation: Because `nums[0] + nums[1] == 9`, we return ``[0, 1]``.\n",
    "\n",
    "> - **Example 2**:\n",
    ">> - Input: `nums = [3,2,4], target = 6`\n",
    ">> - Output: ``[1,2]``"
   ]
  },
  {
   "cell_type": "markdown",
   "id": "83bcbf9d-219b-4be0-a618-1786801aa7cf",
   "metadata": {
    "tags": []
   },
   "source": [
    "## Solution"
   ]
  },
  {
   "cell_type": "markdown",
   "id": "fad1ae98-de86-4a08-8d86-4f50a056d846",
   "metadata": {},
   "source": [
    "### Implementation(s):"
   ]
  },
  {
   "cell_type": "code",
   "execution_count": 1,
   "id": "a9352889-60d3-4038-9fab-dc0aa676e367",
   "metadata": {},
   "outputs": [],
   "source": [
    "# First implementation - runs in O(n^2)\n",
    "def two_sum1(nums, target):\n",
    "    # Get the array length\n",
    "    nums_len = len(nums)\n",
    "    # Search for two numbers that sum to 10\n",
    "    for i in range(nums_len-1):\n",
    "        for j in range(i+1, nums_len):\n",
    "            if nums[i] + nums[j] == target:\n",
    "                return i, j"
   ]
  },
  {
   "cell_type": "code",
   "execution_count": 2,
   "id": "e1009759-2636-4a72-83c7-44e8026f7432",
   "metadata": {},
   "outputs": [],
   "source": [
    "# Second implementation - runs in O(n.log(n))\n",
    "# Note that this function will return the numbers not the indices\n",
    "def two_sum2(nums, target):\n",
    "    \n",
    "    # Sort the array\n",
    "    nums.sort()\n",
    "    \n",
    "    # Create two pointers\n",
    "    l_pointer = 0\n",
    "    r_pointer = -1\n",
    "    \n",
    "    # Loop over the array adjusting the pointers if necessary\n",
    "    while True:\n",
    "        # Declare l_num & r_num for the sake of clarity\n",
    "        l_num, r_num = nums[l_pointer], nums[r_pointer]\n",
    "        # Adjust the pointers accordingly\n",
    "        if l_pointer + abs(r_pointer) == len(nums):\n",
    "            return None\n",
    "        elif l_num + r_num > target:\n",
    "            r_pointer -= 1\n",
    "        elif l_num + r_num < target:\n",
    "            l_pointer += 1\n",
    "        else:\n",
    "            return l_num, r_num"
   ]
  },
  {
   "cell_type": "code",
   "execution_count": 3,
   "id": "1a09fe8a-4a3b-4bc7-b601-61aadecc2900",
   "metadata": {},
   "outputs": [],
   "source": [
    "# Third implementation - runs in O(n)\n",
    "def two_sum3(nums, target):\n",
    "    # Create a dict for storing {num: i} pairs\n",
    "    num_to_idx = {}\n",
    "    # Iterate over nums \n",
    "    for i, num in enumerate(nums):\n",
    "        # Calculate num_pair for every num\n",
    "        num_pair = target - num\n",
    "        # Search for num_pair in num_to_idx\n",
    "        if num_pair not in num_to_idx:\n",
    "            num_to_idx[num] = i\n",
    "        else:\n",
    "            return num_to_idx[num_pair], i"
   ]
  },
  {
   "cell_type": "markdown",
   "id": "c8cd8125-198a-4470-9bf5-a17e72f80eb3",
   "metadata": {},
   "source": [
    "### Example 1 - Output: [0, 1]"
   ]
  },
  {
   "cell_type": "markdown",
   "id": "d3162714-7a84-4413-b09e-32e65b1a0333",
   "metadata": {},
   "source": [
    "#### First implementation"
   ]
  },
  {
   "cell_type": "code",
   "execution_count": 4,
   "id": "f13a9ac4-82c2-4f9a-9e1a-a9ca97337074",
   "metadata": {},
   "outputs": [],
   "source": [
    "nums = [2, 7, 11, 15]\n",
    "target = 9"
   ]
  },
  {
   "cell_type": "code",
   "execution_count": 5,
   "id": "14ff0e42-ba32-4675-ac12-d87f4a966047",
   "metadata": {},
   "outputs": [
    {
     "name": "stdout",
     "output_type": "stream",
     "text": [
      "First implementation:\n",
      "\n",
      "Indices: 0 & 1.\n",
      "Numbers: 2 & 7.\n",
      "********************\n",
      "CPU times: total: 0 ns\n",
      "Wall time: 0 ns\n"
     ]
    }
   ],
   "source": [
    "%%time\n",
    "a, b = two_sum1(nums, target)\n",
    "print(\"First implementation:\\n\")\n",
    "print(f\"Indices: {a} & {b}.\")\n",
    "print(f\"Numbers: {nums[a]} & {nums[b]}.\")\n",
    "print('*' * 20)"
   ]
  },
  {
   "cell_type": "markdown",
   "id": "19fd2c0c-cc3b-4df2-9f38-adff13930995",
   "metadata": {},
   "source": [
    "#### Second implementation"
   ]
  },
  {
   "cell_type": "code",
   "execution_count": 6,
   "id": "85369cff-08b8-486f-aed8-4f7a849a6cfe",
   "metadata": {},
   "outputs": [],
   "source": [
    "nums = [2, 7, 11, 15]\n",
    "target = 9"
   ]
  },
  {
   "cell_type": "code",
   "execution_count": 7,
   "id": "54e0fab4-1bd4-40bf-8693-22c8cb5f2fef",
   "metadata": {},
   "outputs": [
    {
     "name": "stdout",
     "output_type": "stream",
     "text": [
      "Second implementation:\n",
      "\n",
      "Numbers: 2 & 7.\n",
      "********************\n",
      "CPU times: total: 31.2 ms\n",
      "Wall time: 1.99 ms\n"
     ]
    }
   ],
   "source": [
    "%%time\n",
    "n1, n2 = two_sum2(nums, target)\n",
    "print(\"Second implementation:\\n\")\n",
    "print(f\"Numbers: {n1} & {n2}.\")\n",
    "print('*' * 20)"
   ]
  },
  {
   "cell_type": "markdown",
   "id": "ad123413-eaea-427b-977d-865dce6a0ede",
   "metadata": {},
   "source": [
    "#### Third implementation"
   ]
  },
  {
   "cell_type": "code",
   "execution_count": 8,
   "id": "5ad431bb-7ddf-4707-8d05-4335fb779c42",
   "metadata": {},
   "outputs": [],
   "source": [
    "nums = [2, 7, 11, 15]\n",
    "target = 9"
   ]
  },
  {
   "cell_type": "code",
   "execution_count": 9,
   "id": "7ee099f0-445a-44e7-a025-c9c43b88d436",
   "metadata": {},
   "outputs": [
    {
     "name": "stdout",
     "output_type": "stream",
     "text": [
      "Third implementation:\n",
      "\n",
      "Indices: 0 & 1.\n",
      "Numbers: 2 & 7.\n",
      "********************\n",
      "CPU times: total: 0 ns\n",
      "Wall time: 2 ms\n"
     ]
    }
   ],
   "source": [
    "%%time\n",
    "a, b = two_sum3(nums, target)\n",
    "print(\"Third implementation:\\n\")\n",
    "print(f\"Indices: {a} & {b}.\")\n",
    "print(f\"Numbers: {nums[a]} & {nums[b]}.\")\n",
    "print('*' * 20)"
   ]
  },
  {
   "cell_type": "markdown",
   "id": "68137a8a-db59-4c1d-895a-4ded7a2a1426",
   "metadata": {},
   "source": [
    "### Example 2 - Output: [1, 2]"
   ]
  },
  {
   "cell_type": "markdown",
   "id": "5acbca2f-534c-4aaf-9686-7114d63bae14",
   "metadata": {},
   "source": [
    "#### First implementation"
   ]
  },
  {
   "cell_type": "code",
   "execution_count": 10,
   "id": "c20abad9-fa59-4b3c-ad9d-f781c3918a88",
   "metadata": {},
   "outputs": [],
   "source": [
    "nums = [3, 2, 4]\n",
    "target = 6"
   ]
  },
  {
   "cell_type": "code",
   "execution_count": 11,
   "id": "2e6ae496-388b-42bb-bf9a-1853cab45736",
   "metadata": {},
   "outputs": [
    {
     "name": "stdout",
     "output_type": "stream",
     "text": [
      "First implementation:\n",
      "\n",
      "Indices: 1 & 2.\n",
      "Numbers: 2 & 4.\n",
      "********************\n",
      "CPU times: total: 0 ns\n",
      "Wall time: 1 ms\n"
     ]
    }
   ],
   "source": [
    "%%time\n",
    "a, b = two_sum1(nums, target)\n",
    "print(\"First implementation:\\n\")\n",
    "print(f\"Indices: {a} & {b}.\")\n",
    "print(f\"Numbers: {nums[a]} & {nums[b]}.\")\n",
    "print('*' * 20)"
   ]
  },
  {
   "cell_type": "markdown",
   "id": "9b27fb54-8dca-415d-9c0f-381f8324eb16",
   "metadata": {},
   "source": [
    "#### Second implementation"
   ]
  },
  {
   "cell_type": "code",
   "execution_count": 12,
   "id": "9018e33a-f71f-421b-95fa-a17ed994eb8c",
   "metadata": {},
   "outputs": [],
   "source": [
    "nums = [3, 2, 4]\n",
    "target = 6"
   ]
  },
  {
   "cell_type": "code",
   "execution_count": 13,
   "id": "0db7a4ab-ea43-4529-a682-9757eeefba55",
   "metadata": {},
   "outputs": [
    {
     "name": "stdout",
     "output_type": "stream",
     "text": [
      "Second implementation:\n",
      "\n",
      "Numbers: 2 & 4.\n",
      "********************\n",
      "CPU times: total: 0 ns\n",
      "Wall time: 9.99 ms\n"
     ]
    }
   ],
   "source": [
    "%%time\n",
    "n1, n2 = two_sum2(nums, target)\n",
    "print(\"Second implementation:\\n\")\n",
    "print(f\"Numbers: {n1} & {n2}.\")\n",
    "print('*' * 20)"
   ]
  },
  {
   "cell_type": "markdown",
   "id": "7bf659f9-1687-4616-9261-fcefbdd27c0e",
   "metadata": {},
   "source": [
    "#### Third implementation"
   ]
  },
  {
   "cell_type": "code",
   "execution_count": 14,
   "id": "77b6a718-fc72-4182-b9c2-716c65ea3f35",
   "metadata": {},
   "outputs": [],
   "source": [
    "nums = [3, 2, 4]\n",
    "target = 6"
   ]
  },
  {
   "cell_type": "code",
   "execution_count": 15,
   "id": "3757fe53-7eb8-4029-9d9c-1e89680c20c1",
   "metadata": {},
   "outputs": [
    {
     "name": "stdout",
     "output_type": "stream",
     "text": [
      "Third implementation:\n",
      "\n",
      "Indices: 1 & 2.\n",
      "Numbers: 2 & 4.\n",
      "********************\n",
      "CPU times: total: 0 ns\n",
      "Wall time: 2 ms\n"
     ]
    }
   ],
   "source": [
    "%%time\n",
    "a, b = two_sum3(nums, target)\n",
    "print(\"Third implementation:\\n\")\n",
    "print(f\"Indices: {a} & {b}.\")\n",
    "print(f\"Numbers: {nums[a]} & {nums[b]}.\")\n",
    "print('*' * 20)"
   ]
  },
  {
   "cell_type": "markdown",
   "id": "38bb8654-7d10-4257-8541-d3b1c2970ee8",
   "metadata": {},
   "source": [
    "### Example 3 - Output: [0, 1]"
   ]
  },
  {
   "cell_type": "markdown",
   "id": "8dd15e7d-c532-402c-b4e1-8c319d7f95e4",
   "metadata": {},
   "source": [
    "#### First implementation"
   ]
  },
  {
   "cell_type": "code",
   "execution_count": 16,
   "id": "8d05d428-2b0c-4b4f-946d-3ee726e2879e",
   "metadata": {},
   "outputs": [],
   "source": [
    "nums = [3, 3]\n",
    "target = 6 "
   ]
  },
  {
   "cell_type": "code",
   "execution_count": 17,
   "id": "e969e350-4392-4996-a74b-b83923a9580f",
   "metadata": {},
   "outputs": [
    {
     "name": "stdout",
     "output_type": "stream",
     "text": [
      "First implementation:\n",
      "\n",
      "Indices: 0 & 1.\n",
      "Numbers: 3 & 3.\n",
      "********************\n",
      "CPU times: total: 0 ns\n",
      "Wall time: 2 ms\n"
     ]
    }
   ],
   "source": [
    "%%time\n",
    "a, b = two_sum1(nums, target)\n",
    "print(\"First implementation:\\n\")\n",
    "print(f\"Indices: {a} & {b}.\")\n",
    "print(f\"Numbers: {nums[a]} & {nums[b]}.\")\n",
    "print('*' * 20)"
   ]
  },
  {
   "cell_type": "markdown",
   "id": "4c6b3b27-01f3-4583-9d4e-895f22eccd1a",
   "metadata": {},
   "source": [
    "#### Second implementation"
   ]
  },
  {
   "cell_type": "code",
   "execution_count": 18,
   "id": "2c8f0b5f-5b4a-4c3d-a1c3-ebb41a346313",
   "metadata": {},
   "outputs": [],
   "source": [
    "nums = [3, 3]\n",
    "target = 6 "
   ]
  },
  {
   "cell_type": "code",
   "execution_count": 19,
   "id": "0a376336-3970-43dd-9c9f-ac22990fd6e3",
   "metadata": {},
   "outputs": [
    {
     "name": "stdout",
     "output_type": "stream",
     "text": [
      "Second implementation:\n",
      "\n",
      "Numbers: 3 & 3.\n",
      "********************\n",
      "CPU times: total: 0 ns\n",
      "Wall time: 2 ms\n"
     ]
    }
   ],
   "source": [
    "%%time\n",
    "n1, n2 = two_sum2(nums, target)\n",
    "print(\"Second implementation:\\n\")\n",
    "print(f\"Numbers: {n1} & {n2}.\")\n",
    "print('*' * 20)"
   ]
  },
  {
   "cell_type": "markdown",
   "id": "eb023a8b-039c-4325-ae23-a72fdbe8cee3",
   "metadata": {},
   "source": [
    "#### Third implementation"
   ]
  },
  {
   "cell_type": "code",
   "execution_count": 20,
   "id": "2bf3f7b0-9271-49b3-8754-f2be6b3ef21a",
   "metadata": {},
   "outputs": [],
   "source": [
    "nums = [3, 3]\n",
    "target = 6 "
   ]
  },
  {
   "cell_type": "code",
   "execution_count": 21,
   "id": "d93d9e4d-5082-4ec5-ad2b-1755e16d1540",
   "metadata": {},
   "outputs": [
    {
     "name": "stdout",
     "output_type": "stream",
     "text": [
      "Third implementation:\n",
      "\n",
      "Indices: 0 & 1.\n",
      "Numbers: 3 & 3.\n",
      "********************\n",
      "CPU times: total: 0 ns\n",
      "Wall time: 988 µs\n"
     ]
    }
   ],
   "source": [
    "%%time\n",
    "a, b = two_sum3(nums, target)\n",
    "print(\"Third implementation:\\n\")\n",
    "print(f\"Indices: {a} & {b}.\")\n",
    "print(f\"Numbers: {nums[a]} & {nums[b]}.\")\n",
    "print('*' * 20)"
   ]
  },
  {
   "cell_type": "code",
   "execution_count": null,
   "id": "a0f19c38-b04b-41d0-98ab-d69a30fb62d8",
   "metadata": {},
   "outputs": [],
   "source": []
  }
 ],
 "metadata": {
  "kernelspec": {
   "display_name": "Python 3 (ipykernel)",
   "language": "python",
   "name": "python3"
  },
  "language_info": {
   "codemirror_mode": {
    "name": "ipython",
    "version": 3
   },
   "file_extension": ".py",
   "mimetype": "text/x-python",
   "name": "python",
   "nbconvert_exporter": "python",
   "pygments_lexer": "ipython3",
   "version": "3.10.10"
  }
 },
 "nbformat": 4,
 "nbformat_minor": 5
}
