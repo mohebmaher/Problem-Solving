{
 "cells": [
  {
   "cell_type": "markdown",
   "id": "4ca98c4e-3329-40db-8207-3a3ca969ab07",
   "metadata": {},
   "source": [
    "# Is Subsequence"
   ]
  },
  {
   "cell_type": "markdown",
   "id": "aa1b254f-3c48-4607-932d-2cd0b6d464bd",
   "metadata": {},
   "source": [
    "## Problem outline"
   ]
  },
  {
   "cell_type": "markdown",
   "id": "8ea6b4a5-2a87-4636-9340-572c20163ee5",
   "metadata": {},
   "source": [
    "Given two strings `s` and `t`, return `True` if `s` is a subsequence of `t`, or `False` otherwise.\n",
    "\n",
    "A subsequence of a string is a new string that is formed from the original string by deleting some (can be none) of the characters without disturbing the relative positions of the remaining characters. (i.e., `\"ace\"` is a subsequence of `\"abcde\"` while `\"aec\"` is not)."
   ]
  },
  {
   "cell_type": "markdown",
   "id": "2aad4b2d-216f-4d61-9e63-205bdc434678",
   "metadata": {},
   "source": [
    "https://leetcode.com/problems/is-subsequence/"
   ]
  },
  {
   "cell_type": "markdown",
   "id": "7be3a62c-2e13-40a6-a203-bcb11d7f506a",
   "metadata": {},
   "source": [
    "> - **Example 1**:\n",
    ">> - Input: `s = \"abc\", t = \"ahbgdc\"`\n",
    ">> - Output: `True`"
   ]
  },
  {
   "cell_type": "markdown",
   "id": "617376c6-ff03-4ff6-bebd-f1bdd9f3e706",
   "metadata": {},
   "source": [
    "> - **Example 2**:\n",
    ">> - Input: `s = \"axc\", t = \"ahbgdc\"`\n",
    ">> - Output: `False`"
   ]
  },
  {
   "cell_type": "markdown",
   "id": "bf8843e7-a073-4a04-9820-00bf387a6158",
   "metadata": {},
   "source": [
    "> - **Follow-up**:\n",
    ">> - Suppose there are lots of incoming `s`, say `s1, s2, ..., s`k where `k` >= 109, and you want to check one by one to see if `t` has its subsequence. In this scenario, how would you change your code?"
   ]
  },
  {
   "cell_type": "markdown",
   "id": "83bcbf9d-219b-4be0-a618-1786801aa7cf",
   "metadata": {
    "tags": []
   },
   "source": [
    "## Solution:"
   ]
  },
  {
   "cell_type": "markdown",
   "id": "fad1ae98-de86-4a08-8d86-4f50a056d846",
   "metadata": {},
   "source": [
    "### Implementation(s):"
   ]
  },
  {
   "cell_type": "code",
   "execution_count": 1,
   "id": "a9352889-60d3-4038-9fab-dc0aa676e367",
   "metadata": {},
   "outputs": [],
   "source": [
    "# Runs in O(n)\n",
    "def is_subsequence(s, t):\n",
    "    \n",
    "    # Define a special case\n",
    "    if s == \"\":\n",
    "        return True\n",
    "    \n",
    "    # Initialize a pointer for traversing s\n",
    "    pointer = 0\n",
    "    \n",
    "    # Iterate over t\n",
    "    for e in t:\n",
    "        # Check is there is a match\n",
    "        if e == s[pointer]:\n",
    "            pointer += 1\n",
    "        # Break the loop if pointer is out of bound\n",
    "        if pointer == len(s):\n",
    "            return True\n",
    "    else:\n",
    "        return False"
   ]
  },
  {
   "cell_type": "markdown",
   "id": "c8cd8125-198a-4470-9bf5-a17e72f80eb3",
   "metadata": {},
   "source": [
    "### Example 1 - Output: True"
   ]
  },
  {
   "cell_type": "code",
   "execution_count": 2,
   "id": "f13a9ac4-82c2-4f9a-9e1a-a9ca97337074",
   "metadata": {},
   "outputs": [],
   "source": [
    "s = \"abc\"\n",
    "t = \"ahbgdc\""
   ]
  },
  {
   "cell_type": "code",
   "execution_count": 3,
   "id": "14ff0e42-ba32-4675-ac12-d87f4a966047",
   "metadata": {},
   "outputs": [
    {
     "name": "stdout",
     "output_type": "stream",
     "text": [
      "CPU times: total: 0 ns\n",
      "Wall time: 0 ns\n"
     ]
    },
    {
     "data": {
      "text/plain": [
       "True"
      ]
     },
     "execution_count": 3,
     "metadata": {},
     "output_type": "execute_result"
    }
   ],
   "source": [
    "%%time\n",
    "is_subsequence(s, t)"
   ]
  },
  {
   "cell_type": "markdown",
   "id": "68137a8a-db59-4c1d-895a-4ded7a2a1426",
   "metadata": {},
   "source": [
    "### Example 2 - Output: False"
   ]
  },
  {
   "cell_type": "code",
   "execution_count": 4,
   "id": "c20abad9-fa59-4b3c-ad9d-f781c3918a88",
   "metadata": {},
   "outputs": [],
   "source": [
    "s = \"axc\"\n",
    "t = \"ahbgdc\""
   ]
  },
  {
   "cell_type": "code",
   "execution_count": 5,
   "id": "2e6ae496-388b-42bb-bf9a-1853cab45736",
   "metadata": {},
   "outputs": [
    {
     "name": "stdout",
     "output_type": "stream",
     "text": [
      "CPU times: total: 0 ns\n",
      "Wall time: 0 ns\n"
     ]
    },
    {
     "data": {
      "text/plain": [
       "False"
      ]
     },
     "execution_count": 5,
     "metadata": {},
     "output_type": "execute_result"
    }
   ],
   "source": [
    "%%time\n",
    "is_subsequence(s, t)"
   ]
  },
  {
   "cell_type": "markdown",
   "id": "71819f3d-f3f7-42bd-849a-575f784f1fd7",
   "metadata": {},
   "source": [
    "### Example 3 - Output: True"
   ]
  },
  {
   "cell_type": "code",
   "execution_count": 6,
   "id": "1c229e16-637f-440d-b98d-50103dde4ae9",
   "metadata": {},
   "outputs": [],
   "source": [
    "s = \"me\"\n",
    "t = \"disappointment\""
   ]
  },
  {
   "cell_type": "markdown",
   "id": "f6084ba7-b83d-49c5-a6f0-dd257288904c",
   "metadata": {},
   "source": [
    "> - A word thet contains a synonym inside it is called a KANGAROO word"
   ]
  },
  {
   "cell_type": "code",
   "execution_count": 7,
   "id": "9497b3ac-4bcc-4da4-bea0-3621c69d8748",
   "metadata": {},
   "outputs": [
    {
     "name": "stdout",
     "output_type": "stream",
     "text": [
      "CPU times: total: 0 ns\n",
      "Wall time: 0 ns\n"
     ]
    },
    {
     "data": {
      "text/plain": [
       "True"
      ]
     },
     "execution_count": 7,
     "metadata": {},
     "output_type": "execute_result"
    }
   ],
   "source": [
    "%%time\n",
    "is_subsequence(s, t)"
   ]
  },
  {
   "cell_type": "code",
   "execution_count": null,
   "id": "e41fc84e-e145-4dc9-b103-e05442ac3f15",
   "metadata": {},
   "outputs": [],
   "source": []
  }
 ],
 "metadata": {
  "kernelspec": {
   "display_name": "Python 3 (ipykernel)",
   "language": "python",
   "name": "python3"
  },
  "language_info": {
   "codemirror_mode": {
    "name": "ipython",
    "version": 3
   },
   "file_extension": ".py",
   "mimetype": "text/x-python",
   "name": "python",
   "nbconvert_exporter": "python",
   "pygments_lexer": "ipython3",
   "version": "3.10.10"
  }
 },
 "nbformat": 4,
 "nbformat_minor": 5
}
